{
 "cells": [
  {
   "cell_type": "code",
   "execution_count": 5,
   "metadata": {},
   "outputs": [],
   "source": [
    "import pandas as pd\n",
    "from os import walk"
   ]
  },
  {
   "cell_type": "code",
   "execution_count": 11,
   "metadata": {},
   "outputs": [],
   "source": [
    "neg_path = \"data/train/neg\"\n",
    "\n",
    "# neg_files = []\n",
    "\n",
    "# for (dir_path, dir_names, file_names) in walk(neg_path):\n",
    "#     neg_files.extend(file_names)"
   ]
  },
  {
   "cell_type": "code",
   "execution_count": 14,
   "metadata": {},
   "outputs": [],
   "source": [
    "pos_path = 'data/train/pos'\n",
    "\n",
    "# pos_files = []\n",
    "\n",
    "# for (dir_path, dir_names, file_names) in walk(pos_path):\n",
    "#     pos_files.extend(file_names)"
   ]
  },
  {
   "cell_type": "code",
   "execution_count": null,
   "metadata": {},
   "outputs": [],
   "source": [
    "# all_pos = []\n",
    "# for i in range(len(pos_files)):\n",
    "#     file_name = 'data/train_pos' + pos_files[i]\n",
    "#     file = open(file_name,'rt')\n",
    "#     text.appen"
   ]
  },
  {
   "cell_type": "code",
   "execution_count": 52,
   "metadata": {},
   "outputs": [],
   "source": [
    "import os\n",
    "import re\n",
    "import nltk\n",
    "from nltk.corpus import stopwords\n",
    "from nltk.stem.porter import PorterStemmer"
   ]
  },
  {
   "cell_type": "code",
   "execution_count": 53,
   "metadata": {},
   "outputs": [],
   "source": [
    "stop_words = stopwords.words('english')\n",
    "\n",
    "porter = PorterStemmer()"
   ]
  },
  {
   "cell_type": "code",
   "execution_count": 38,
   "metadata": {},
   "outputs": [],
   "source": [
    "all_texts_pos = []\n",
    "for filename in os.listdir(pos_path):\n",
    "    if filename.endswith(\".txt\"):\n",
    "        with open(os.path.join(pos_path, filename), 'r', encoding='utf-8') as file:\n",
    "            text = file.read()\n",
    "            all_texts_pos.append(text)\n",
    "\n",
    "# Combine all texts into one (if needed)\n",
    "combined_pos_text_train = \" \".join(all_texts_pos)"
   ]
  },
  {
   "cell_type": "code",
   "execution_count": 55,
   "metadata": {},
   "outputs": [
    {
     "name": "stdout",
     "output_type": "stream",
     "text": [
      "['movi', 'get', 'respect', 'sure', 'lot', 'memor', 'quot', 'list', 'gem', 'imagin', 'movi', 'joe', 'piscopo', 'actual', 'funni', 'maureen', 'stapleton', 'scene', 'stealer', 'moroni', 'charact', 'absolut', 'scream', 'watch', 'alan', 'skipper', 'hale', 'jr', 'polic', 'sgt', 'bizarr', 'horror', 'movi', 'fill', 'famou', 'face', 'stolen', 'cristina', 'rain', 'later']\n"
     ]
    }
   ],
   "source": [
    "pos_words_train = re.split(r'\\W+',combined_pos_text_train)\n",
    "\n",
    "pos_words_train = [word.lower() for word in pos_words_train ]\n",
    "\n",
    "pos_words_train = [word for word in pos_words_train if not word in stop_words]\n",
    "\n",
    "stemmed_pos_train = [porter.stem(word) for word in pos_words_train]\n",
    "\n",
    "print(stemmed_pos_train[:40])\n"
   ]
  },
  {
   "cell_type": "code",
   "execution_count": 21,
   "metadata": {},
   "outputs": [],
   "source": [
    "all_texts_neg = []\n",
    "for filename in os.listdir(neg_path):\n",
    "    if filename.endswith(\".txt\"):\n",
    "        with open(os.path.join(neg_path, filename), 'r', encoding='utf-8') as file:\n",
    "            text = file.read()\n",
    "            all_texts_neg.append(text)\n",
    "\n",
    "# Combine all texts into one (if needed)\n",
    "combined_neg_text_train = \" \".join(all_texts_neg)"
   ]
  },
  {
   "cell_type": "code",
   "execution_count": 59,
   "metadata": {},
   "outputs": [],
   "source": [
    "neg_words_train = re.split(r'\\W+',combined_neg_text_train)\n",
    "\n",
    "neg_words_train = [word.lower() for word in neg_words_train ]\n",
    "\n",
    "neg_words_train = [word for word in neg_words_train if not word in stop_words]\n",
    "\n",
    "stemmed_neg_train = [porter.stem(word) for word in neg_words_train]\n",
    "\n",
    "print(stemmed_neg_train[:20])"
   ]
  },
  {
   "cell_type": "code",
   "execution_count": null,
   "metadata": {},
   "outputs": [],
   "source": []
  }
 ],
 "metadata": {
  "kernelspec": {
   "display_name": "Python 3",
   "language": "python",
   "name": "python3"
  },
  "language_info": {
   "codemirror_mode": {
    "name": "ipython",
    "version": 3
   },
   "file_extension": ".py",
   "mimetype": "text/x-python",
   "name": "python",
   "nbconvert_exporter": "python",
   "pygments_lexer": "ipython3",
   "version": "3.12.4"
  }
 },
 "nbformat": 4,
 "nbformat_minor": 2
}
