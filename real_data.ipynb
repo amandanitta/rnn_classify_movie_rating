{
 "cells": [
  {
   "cell_type": "code",
   "execution_count": 5,
   "metadata": {},
   "outputs": [],
   "source": [
    "import pandas as pd\n",
    "from os import walk"
   ]
  },
  {
   "cell_type": "code",
   "execution_count": 60,
   "metadata": {},
   "outputs": [],
   "source": [
    "neg_path_train = \"data/train/neg\"\n",
    "pos_path_train = 'data/train/pos'"
   ]
  },
  {
   "cell_type": "code",
   "execution_count": 52,
   "metadata": {},
   "outputs": [],
   "source": [
    "import os\n",
    "import re\n",
    "import nltk\n",
    "from nltk.corpus import stopwords\n",
    "from nltk.stem.porter import PorterStemmer\n",
    "\n",
    "stop_words = stopwords.words('english')\n",
    "\n",
    "porter = PorterStemmer()"
   ]
  },
  {
   "cell_type": "code",
   "execution_count": null,
   "metadata": {},
   "outputs": [],
   "source": [
    "def clean_text_for_files(file_path):\n",
    "    all_texts = []\n",
    "    for filename in os.listdir(file_path):\n",
    "        if filename.endswith(\".txt\"):\n",
    "            with open(os.path.join(file_path, filename), 'r', encoding='utf-8') as file:\n",
    "                text = file.read()\n",
    "                all_texts.append(text)\n",
    "    # Combine all texts into one (if needed)\n",
    "    combined_text = \" \".join(all_texts)\n",
    "    words = re.split(r'\\W+',combined_text)\n",
    "    lower_words = [word.lower() for word in words ]\n",
    "    re_stop_words = [word for word in lower_words if not word in stop_words]\n",
    "    stem_words = [porter.stem(word) for word in re_stop_words]\n",
    "    return stem_words\n",
    "    "
   ]
  },
  {
   "cell_type": "code",
   "execution_count": 61,
   "metadata": {},
   "outputs": [
    {
     "name": "stdout",
     "output_type": "stream",
     "text": [
      "12500\n"
     ]
    }
   ],
   "source": [
    "# all_texts_pos = []\n",
    "# for filename in os.listdir(pos_path_train):\n",
    "#     if filename.endswith(\".txt\"):\n",
    "#         with open(os.path.join(pos_path_train, filename), 'r', encoding='utf-8') as file:\n",
    "#             text = file.read()\n",
    "#             all_texts_pos.append(text)\n",
    "\n",
    "# print(len(all_texts_pos))\n",
    "\n",
    "# # Combine all texts into one (if needed)\n",
    "# combined_pos_text_train = \" \".join(all_texts_pos)"
   ]
  },
  {
   "cell_type": "code",
   "execution_count": 64,
   "metadata": {},
   "outputs": [
    {
     "name": "stdout",
     "output_type": "stream",
     "text": [
      "12500\n"
     ]
    }
   ],
   "source": [
    "pos_path_test = 'data/test/pos'\n",
    "\n",
    "all_texts_pos = []\n",
    "for filename in os.listdir(pos_path_test):\n",
    "    if filename.endswith(\".txt\"):\n",
    "        with open(os.path.join(pos_path_test, filename), 'r', encoding='utf-8') as file:\n",
    "            text = file.read()\n",
    "            all_texts_pos.append(text)\n",
    "\n",
    "print(len(all_texts_pos))\n",
    "\n",
    "# Combine all texts into one (if needed)\n",
    "combined_pos_text_test = \" \".join(all_texts_pos)"
   ]
  },
  {
   "cell_type": "code",
   "execution_count": 55,
   "metadata": {},
   "outputs": [
    {
     "name": "stdout",
     "output_type": "stream",
     "text": [
      "['movi', 'get', 'respect', 'sure', 'lot', 'memor', 'quot', 'list', 'gem', 'imagin', 'movi', 'joe', 'piscopo', 'actual', 'funni', 'maureen', 'stapleton', 'scene', 'stealer', 'moroni', 'charact', 'absolut', 'scream', 'watch', 'alan', 'skipper', 'hale', 'jr', 'polic', 'sgt', 'bizarr', 'horror', 'movi', 'fill', 'famou', 'face', 'stolen', 'cristina', 'rain', 'later']\n"
     ]
    }
   ],
   "source": [
    "pos_words_train = re.split(r'\\W+',combined_pos_text_train)\n",
    "\n",
    "pos_words_train = [word.lower() for word in pos_words_train ]\n",
    "\n",
    "pos_words_train = [word for word in pos_words_train if not word in stop_words]\n",
    "\n",
    "stemmed_pos_train = [porter.stem(word) for word in pos_words_train]\n",
    "\n",
    "print(stemmed_pos_train[:40])\n"
   ]
  },
  {
   "cell_type": "code",
   "execution_count": 21,
   "metadata": {},
   "outputs": [],
   "source": [
    "all_texts_neg = []\n",
    "for filename in os.listdir(neg_path_train):\n",
    "    if filename.endswith(\".txt\"):\n",
    "        with open(os.path.join(neg_path_train, filename), 'r', encoding='utf-8') as file:\n",
    "            text = file.read()\n",
    "            all_texts_neg.append(text)\n",
    "\n",
    "# Combine all texts into one (if needed)\n",
    "combined_neg_text_train = \" \".join(all_texts_neg)"
   ]
  },
  {
   "cell_type": "code",
   "execution_count": 59,
   "metadata": {},
   "outputs": [
    {
     "name": "stdout",
     "output_type": "stream",
     "text": [
      "['work', 'one', 'best', 'shakespear', 'sourc', 'film', 'manag', 'credit', 'sourc', 'whilst', 'still', 'appeal', 'wider', 'audienc', 'br', 'br', 'branagh', 'steal', 'film', 'fishburn']\n"
     ]
    }
   ],
   "source": [
    "neg_words_train = re.split(r'\\W+',combined_neg_text_train)\n",
    "\n",
    "neg_words_train = [word.lower() for word in neg_words_train ]\n",
    "\n",
    "neg_words_train = [word for word in neg_words_train if not word in stop_words]\n",
    "\n",
    "stemmed_neg_train = [porter.stem(word) for word in neg_words_train]\n",
    "\n",
    "print(stemmed_neg_train[:20])"
   ]
  },
  {
   "cell_type": "code",
   "execution_count": null,
   "metadata": {},
   "outputs": [],
   "source": []
  }
 ],
 "metadata": {
  "kernelspec": {
   "display_name": "Python 3",
   "language": "python",
   "name": "python3"
  },
  "language_info": {
   "codemirror_mode": {
    "name": "ipython",
    "version": 3
   },
   "file_extension": ".py",
   "mimetype": "text/x-python",
   "name": "python",
   "nbconvert_exporter": "python",
   "pygments_lexer": "ipython3",
   "version": "3.12.4"
  }
 },
 "nbformat": 4,
 "nbformat_minor": 2
}
